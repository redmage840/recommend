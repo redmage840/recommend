{
 "cells": [
  {
   "cell_type": "code",
   "execution_count": null,
   "metadata": {},
   "outputs": [],
   "source": [
    "# Python User-User Collaborative Filtering Recommender System\n",
    "\n",
    "# Datafield has 'user_ids' and their 'rating' (1-10) of various 'game_ids'\n",
    "# Prediction of unrated games for each user_id is made using:\n",
    "# k-nearest neighbors found using cosine-similarity\n",
    "# predicted rating based on those near-neighbors' rating weighted by cosine-similarity users"
   ]
  },
  {
   "cell_type": "code",
   "execution_count": 1,
   "metadata": {},
   "outputs": [],
   "source": [
    "import numpy as np\n",
    "import pandas as pd\n",
    "\n",
    "df = pd.read_csv('inputs/boardgame-elite-users.csv')\n",
    "rating_ptable = df.pivot_table(index='userID', columns='gameID', values='rating') \n",
    "\n",
    "rating_ptable = rating_ptable.fillna(0)"
   ]
  },
  {
   "cell_type": "code",
   "execution_count": 2,
   "metadata": {},
   "outputs": [],
   "source": [
    "from sklearn.preprocessing import normalize\n",
    "\n",
    "normalized = normalize(rating_ptable)"
   ]
  },
  {
   "cell_type": "code",
   "execution_count": 3,
   "metadata": {},
   "outputs": [],
   "source": [
    "from sklearn.metrics.pairwise import cosine_similarity\n",
    "\n",
    "sim = cosine_similarity(normalized)"
   ]
  },
  {
   "cell_type": "code",
   "execution_count": 14,
   "metadata": {},
   "outputs": [],
   "source": [
    "nbor_indx = sim.argsort()[:,::-1]\n",
    "\n",
    "# HELPER FUNCTIONS\n",
    "def get_users_that_rated(gameid):\n",
    "    return rating_ptable[gameid].where(rating_ptable[gameid]>0).dropna().index.tolist()\n",
    "    \n",
    "def get_k_nearest_neighbors(userid, gameid, k):\n",
    "    assert(k>1)\n",
    "    pot_nbors = get_users_that_rated(gameid)\n",
    "    userid_indx = rating_ptable.index.get_loc(userid)\n",
    "    \n",
    "    sim_userIDs = []\n",
    "    for x in nbor_indx[userid_indx]:\n",
    "        if rating_ptable.index[x] in pot_nbors:\n",
    "            sim_userIDs.append(rating_ptable.index[x])\n",
    "        if len(sim_userIDs)>k:\n",
    "            break\n",
    "    return sim_userIDs[1:]"
   ]
  },
  {
   "cell_type": "code",
   "execution_count": 15,
   "metadata": {},
   "outputs": [
    {
     "data": {
      "text/plain": [
       "6.5095784352606305"
      ]
     },
     "execution_count": 15,
     "metadata": {},
     "output_type": "execute_result"
    }
   ],
   "source": [
    "# Takes userID, gameID, optional k\n",
    "# Returns predicted rating for gameID\n",
    "def predict_rating(uid, gameid, k=10):\n",
    "    sim_uids = get_k_nearest_neighbors(uid, gameid, k)\n",
    "    accm_score = 0.0\n",
    "    accm_weight = 0.0\n",
    "    for nbor_id in sim_uids:\n",
    "        sim_indx_x = rating_ptable.index.get_loc(uid)\n",
    "        sim_indx_y = rating_ptable.index.get_loc(nbor_id)\n",
    "        accm_score += (rating_ptable.loc[nbor_id][gameid] * sim[sim_indx_x][sim_indx_y])\n",
    "        accm_weight += sim[sim_indx_x][sim_indx_y]\n",
    "    score = accm_score / accm_weight\n",
    "    return score\n",
    "\n",
    "predict_rating(5480, 97903)"
   ]
  }
 ],
 "metadata": {
  "kernelspec": {
   "display_name": "Python 3",
   "language": "python",
   "name": "python3"
  },
  "language_info": {
   "codemirror_mode": {
    "name": "ipython",
    "version": 3
   },
   "file_extension": ".py",
   "mimetype": "text/x-python",
   "name": "python",
   "nbconvert_exporter": "python",
   "pygments_lexer": "ipython3",
   "version": "3.6.4"
  }
 },
 "nbformat": 4,
 "nbformat_minor": 2
}
