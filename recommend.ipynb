{
 "cells": [
  {
   "cell_type": "code",
   "execution_count": null,
   "metadata": {},
   "outputs": [],
   "source": [
    "# Python User-User Collaborative Filtering Recommender System\n",
    "# consider not using pivot table?\n",
    "# experiment with different similarity functions, number of neighbors, ..."
   ]
  },
  {
   "cell_type": "code",
   "execution_count": 1,
   "metadata": {},
   "outputs": [],
   "source": [
    "import numpy as np\n",
    "import pandas as pd\n",
    "\n",
    "df = pd.read_csv('inputs/boardgame-elite-users.csv')\n",
    "df = df.pivot_table(index='userID', columns='gameID', values='rating') \n",
    "\n",
    "df = df.fillna(0)"
   ]
  },
  {
   "cell_type": "code",
   "execution_count": 2,
   "metadata": {},
   "outputs": [],
   "source": [
    "from sklearn.preprocessing import normalize\n",
    "\n",
    "# Normalize Ratings for use in similarity derivation\n",
    "normalized = normalize(df)"
   ]
  },
  {
   "cell_type": "code",
   "execution_count": 3,
   "metadata": {},
   "outputs": [],
   "source": [
    "# Get User Similarity Matrix\n",
    "# Also try Pearson coefficient, city-block, etc...\n",
    "from sklearn.metrics.pairwise import cosine_similarity\n",
    "\n",
    "sim = cosine_similarity(normalized)"
   ]
  },
  {
   "cell_type": "code",
   "execution_count": 5,
   "metadata": {},
   "outputs": [
    {
     "name": "stdout",
     "output_type": "stream",
     "text": [
      "[187094, 128117, 55092, 13340, 19677, 37860, 12305, 96817, 119312, 27853]\n"
     ]
    }
   ],
   "source": [
    "# Get indices of most similar users, argsort returns list of indices of the values\n",
    "# as if the values had been sorted in descending order\n",
    "nbor_indx = sim.argsort()[:,::-1]\n",
    "\n",
    "# Helper function called by \"get_ten_nearest\"\n",
    "# Takes a gameID and returns list of userID\n",
    "def get_users_that_rated(gid):\n",
    "    return df[gid].where(df[gid]>0).dropna().index.tolist()\n",
    "    \n",
    "# Helper function called by \"predict_rating\"\n",
    "# Takes df, userID, and gameID that has not been rated by userID ; returns list of 10 most similar userIDs \n",
    "# THAT HAVE rated the game (descending order of similarity)\n",
    "def get_k_nearest_neighbors(df, uid, gameid, k):\n",
    "    assert(k>1)\n",
    "    pot_nbors = get_users_that_rated(gameid)\n",
    "    uid_indx = df.index.get_loc(uid)\n",
    "    \n",
    "    sim_userIDs = []\n",
    "    for x in nbor_indx[uid_indx]:\n",
    "        if df.index[x] in pot_nbors:\n",
    "            sim_userIDs.append(df.index[x])\n",
    "        if len(sim_userIDs)>k: # self will be the first member(total 11)\n",
    "            break\n",
    "    return sim_userIDs[1:]\n",
    "    \n",
    "print(get_k_nearest_neighbors(df,66705,13, 10))"
   ]
  },
  {
   "cell_type": "code",
   "execution_count": 6,
   "metadata": {},
   "outputs": [
    {
     "data": {
      "text/plain": [
       "7.613137767277404"
      ]
     },
     "execution_count": 6,
     "metadata": {},
     "output_type": "execute_result"
    }
   ],
   "source": [
    "# Takes df, userID, gameID\n",
    "# returns predicted rating for gameID\n",
    "def predict_rating(df, uid, gameid, k=10):\n",
    "    sim_uids = get_k_nearest_neighbors(df, uid, gameid, k)\n",
    "    accm_score = 0.0\n",
    "    accm_weight = 0.0\n",
    "    for nbor_id in sim_uids:\n",
    "        sim_indx_x = df.index.get_loc(uid)\n",
    "        sim_indx_y = df.index.get_loc(nbor_id)\n",
    "        accm_score += (df.loc[nbor_id][gameid] * sim[sim_indx_x][sim_indx_y])\n",
    "        accm_weight += sim[sim_indx_x][sim_indx_y]\n",
    "    score = accm_score / accm_weight\n",
    "    return score\n",
    "\n",
    "predict_rating(df, 3080, 187645)\n",
    "\n",
    "# Now just apply where each rating is zero...\n",
    "# Predicted ratings could be rounded to increase accuracy"
   ]
  }
 ],
 "metadata": {
  "kernelspec": {
   "display_name": "Python 3",
   "language": "python",
   "name": "python3"
  },
  "language_info": {
   "codemirror_mode": {
    "name": "ipython",
    "version": 3
   },
   "file_extension": ".py",
   "mimetype": "text/x-python",
   "name": "python",
   "nbconvert_exporter": "python",
   "pygments_lexer": "ipython3",
   "version": "3.6.4"
  }
 },
 "nbformat": 4,
 "nbformat_minor": 2
}
