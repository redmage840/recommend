{
 "cells": [
  {
   "cell_type": "code",
   "execution_count": 6,
   "metadata": {},
   "outputs": [],
   "source": [
    "# Python User-User Collaborative Filtering Recommender System"
   ]
  },
  {
   "cell_type": "code",
   "execution_count": 11,
   "metadata": {},
   "outputs": [
    {
     "name": "stdout",
     "output_type": "stream",
     "text": [
      "[[0.02545345 0.02545345 0.02545345 ... 0.         0.         0.        ]\n",
      " [0.05955862 0.05211379 0.05955862 ... 0.07444828 0.05955862 0.05955862]\n",
      " [0.05300817 0.05300817 0.06184286 ... 0.07951225 0.07951225 0.        ]\n",
      " ...\n",
      " [0.05984758 0.07979678 0.         ... 0.07979678 0.05984758 0.        ]\n",
      " [0.05979413 0.05979413 0.05979413 ... 0.         0.05979413 0.05979413]\n",
      " [0.04614873 0.05384018 0.04614873 ... 0.         0.         0.05768591]]\n"
     ]
    }
   ],
   "source": [
    "import numpy as np\n",
    "import pandas as pd\n",
    "import scipy\n",
    "from sklearn.preprocessing import normalize\n",
    "\n",
    "df = pd.read_csv('inputs/boardgame-elite-users.csv')\n",
    "df = df.pivot_table(index='userID', columns='gameID', values='rating')\n",
    "# Fill nan with zero. Normalize ignores the zeroes\n",
    "df = df.fillna(0)\n",
    "\n",
    "# Normalize User Ratings for GameIDs\n",
    "df = normalize(df)"
   ]
  },
  {
   "cell_type": "code",
   "execution_count": 13,
   "metadata": {},
   "outputs": [
    {
     "name": "stdout",
     "output_type": "stream",
     "text": [
      "[[1.         0.48283724 0.51777116 ... 0.4351639  0.46496088 0.43789763]\n",
      " [0.48283724 1.         0.787925   ... 0.68971905 0.76159997 0.76200811]\n",
      " [0.51777116 0.787925   1.         ... 0.66907022 0.77862168 0.74296635]\n",
      " ...\n",
      " [0.4351639  0.68971905 0.66907022 ... 1.         0.69099785 0.73612033]\n",
      " [0.46496088 0.76159997 0.77862168 ... 0.69099785 1.         0.75700164]\n",
      " [0.43789763 0.76200811 0.74296635 ... 0.73612033 0.75700164 1.        ]]\n"
     ]
    }
   ],
   "source": [
    "from sklearn.metrics.pairwise import cosine_similarity\n",
    "\n",
    "user_similarity_matrix = cosine_similarity(df)\n",
    "\n",
    "print(user_similarity_matrix)"
   ]
  }
 ],
 "metadata": {
  "kernelspec": {
   "display_name": "Python 3",
   "language": "python",
   "name": "python3"
  },
  "language_info": {
   "codemirror_mode": {
    "name": "ipython",
    "version": 3
   },
   "file_extension": ".py",
   "mimetype": "text/x-python",
   "name": "python",
   "nbconvert_exporter": "python",
   "pygments_lexer": "ipython3",
   "version": "3.6.4"
  }
 },
 "nbformat": 4,
 "nbformat_minor": 2
}
