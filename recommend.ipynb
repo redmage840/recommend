{
 "cells": [
  {
   "cell_type": "code",
   "execution_count": 6,
   "metadata": {},
   "outputs": [],
   "source": [
    "# Python User-User Collaborative Filtering Recommender System\n",
    "# consider not using pivot table?\n",
    "\n",
    "# KNeighbors-based solution\n",
    "# - For each unrated gameID that a userID has,\n",
    "# - Take K-Nearest Neighbors, (Experiment with different values of K)\n",
    "# - Add each Neighbor's RatingTimesSimilarityWeight, divide by K\n",
    "# - Predict should return the gameIDs that have the highest scores from unrated gameIDs (top N versus some threshold)\n",
    "\n",
    "'''\n",
    "1.) We have an n X m matrix consisting of the ratings of n users and m items. Each element of the matrix (i, j) \n",
    "represents how user i rated item j. Since we are working with movie ratings, each rating can be expected to be an \n",
    "integer from 1-5 (reflecting one-star ratings to five-star ratings) if user i has rated movie j, and 0 if the user \n",
    "has not rated that particular movie.\n",
    "\n",
    "2.) For each user, we want to recommend a set of movies that they have not seen yet (the movie rating is 0). \n",
    "To do this, we will effectively use an approach that is similar to weighted K-Nearest Neighbors.\n",
    "\n",
    "3.) For each movie j user i has not seen yet, we find the set of users U who are similar to user i and have seen \n",
    "movie j.\n",
    "For each similar user u, we take u's rating of movie j and multiply it by the cosine similarity \n",
    "of user i and user u. Sum up these weighted ratings, divide by the number of users in U, and we get a\n",
    "weighted average rating for the movie j.\n",
    "\n",
    "4.) Finally, we sort the movies by their weighted average rankings. These average rankings serve as an estimate\n",
    "for what the user will rate each movie. Movies with higher average rankings are more likely to be favored by the\n",
    "user, so we will recommend the movies with the highest average rankings to the user.\n",
    "'''"
   ]
  },
  {
   "cell_type": "code",
   "execution_count": 56,
   "metadata": {},
   "outputs": [],
   "source": [
    "import numpy as np\n",
    "import pandas as pd\n",
    "import scipy\n",
    "from sklearn.preprocessing import normalize\n",
    "\n",
    "# Read CSV and change to pivot_table\n",
    "df = pd.read_csv('inputs/boardgame-elite-users.csv')\n",
    "df = df.pivot_table(index='userID', columns='gameID', values='rating')\n",
    "\n",
    "# Fill nan with zero. Normalize ignores the zeroes\n",
    "df = df.fillna(0)"
   ]
  },
  {
   "cell_type": "code",
   "execution_count": 19,
   "metadata": {},
   "outputs": [],
   "source": [
    "# Test / Train Split\n",
    "from sklearn.model_selection import train_test_split\n",
    "\n",
    "train, test = train_test_split(df)"
   ]
  },
  {
   "cell_type": "code",
   "execution_count": 20,
   "metadata": {},
   "outputs": [],
   "source": [
    "# Normalize User Ratings for GameIDs\n",
    "normalized = normalize(train)"
   ]
  },
  {
   "cell_type": "code",
   "execution_count": 69,
   "metadata": {},
   "outputs": [
    {
     "name": "stdout",
     "output_type": "stream",
     "text": [
      "[[1.         0.74753812 0.73590471 ... 0.71508632 0.6813765  0.59982303]\n",
      " [0.74753812 1.         0.79633193 ... 0.72736324 0.76122329 0.71666738]\n",
      " [0.73590471 0.79633193 1.         ... 0.74098077 0.75948999 0.74296642]\n",
      " ...\n",
      " [0.71508632 0.72736324 0.74098077 ... 1.         0.7250797  0.67686769]\n",
      " [0.6813765  0.76122329 0.75948999 ... 0.7250797  1.         0.71507092]\n",
      " [0.59982303 0.71666738 0.74296642 ... 0.67686769 0.71507092 1.        ]]\n"
     ]
    }
   ],
   "source": [
    "# Also try Pearson coefficient\n",
    "from sklearn.metrics.pairwise import cosine_similarity\n",
    "\n",
    "user_similarity_matrix = cosine_similarity(train)\n",
    "\n",
    "print(user_similarity_matrix)"
   ]
  },
  {
   "cell_type": "code",
   "execution_count": 68,
   "metadata": {},
   "outputs": [],
   "source": [
    "from sklearn.neighbors import KNeighborsClassifier\n"
   ]
  }
 ],
 "metadata": {
  "kernelspec": {
   "display_name": "Python 3",
   "language": "python",
   "name": "python3"
  },
  "language_info": {
   "codemirror_mode": {
    "name": "ipython",
    "version": 3
   },
   "file_extension": ".py",
   "mimetype": "text/x-python",
   "name": "python",
   "nbconvert_exporter": "python",
   "pygments_lexer": "ipython3",
   "version": "3.6.4"
  }
 },
 "nbformat": 4,
 "nbformat_minor": 2
}
