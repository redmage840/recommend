{
 "cells": [
  {
   "cell_type": "code",
   "execution_count": 20,
   "metadata": {},
   "outputs": [
    {
     "name": "stdout",
     "output_type": "stream",
     "text": [
      "[[0.         0.51716276 0.48222884 ... 0.5648361  0.53503912 0.56210237]\n",
      " [0.51716276 0.         0.212075   ... 0.31028095 0.23840003 0.23799189]\n",
      " [0.48222884 0.212075   0.         ... 0.33092978 0.22137832 0.25703365]\n",
      " ...\n",
      " [0.5648361  0.31028095 0.33092978 ... 0.         0.30900215 0.26387967]\n",
      " [0.53503912 0.23840003 0.22137832 ... 0.30900215 0.         0.24299836]\n",
      " [0.56210237 0.23799189 0.25703365 ... 0.26387967 0.24299836 0.        ]]\n"
     ]
    }
   ],
   "source": [
    "# Needs complete refactor, starting now 4-8-18\n",
    "\n",
    "\n",
    "import numpy as np\n",
    "import pandas as pd\n",
    "\n",
    "df = pd.read_csv('inputs/boardgame-elite-users.csv')\n",
    "\n",
    "newf = df.pivot(index='userID', columns='gameID')\n",
    "newf = newf.fillna(0)\n",
    "\n",
    "# Before getting user_similarity, need to normalize ratings\n",
    "\n",
    "from sklearn.metrics.pairwise import pairwise_distances\n",
    "user_similarity = pairwise_distances(np.array(newf), metric='cosine')\n",
    "\n",
    "print(user_similarity)"
   ]
  }
 ],
 "metadata": {
  "kernelspec": {
   "display_name": "Python 3",
   "language": "python",
   "name": "python3"
  },
  "language_info": {
   "codemirror_mode": {
    "name": "ipython",
    "version": 3
   },
   "file_extension": ".py",
   "mimetype": "text/x-python",
   "name": "python",
   "nbconvert_exporter": "python",
   "pygments_lexer": "ipython3",
   "version": "3.6.4"
  }
 },
 "nbformat": 4,
 "nbformat_minor": 2
}
