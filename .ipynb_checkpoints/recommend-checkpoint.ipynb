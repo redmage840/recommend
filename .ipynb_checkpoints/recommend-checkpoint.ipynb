{
 "cells": [
  {
   "cell_type": "code",
   "execution_count": null,
   "metadata": {},
   "outputs": [],
   "source": [
    "# Python User-User Collaborative Filtering Recommender System\n",
    "# consider not using pivot table?\n",
    "# experiment with different similarity functions\n",
    "\n",
    "'''\n",
    "-For each movie j user i has not seen yet, we find the set of users U who are similar to user i and have seen \n",
    "movie j.\n",
    "For each similar user u, we take u's rating of movie j and multiply it by the cosine similarity \n",
    "of user i and user u. Sum up these weighted ratings, divide by the number of users in U, and we get a\n",
    "weighted average rating for the movie j.\n",
    "'''"
   ]
  },
  {
   "cell_type": "code",
   "execution_count": 1,
   "metadata": {},
   "outputs": [],
   "source": [
    "import numpy as np\n",
    "import pandas as pd\n",
    "import scipy\n",
    "from sklearn.preprocessing import normalize\n",
    "\n",
    "# Read CSV and change to pivot_table\n",
    "df = pd.read_csv('inputs/boardgame-elite-users.csv')\n",
    "df = df.pivot_table(index='userID', columns='gameID', values='rating')\n",
    "\n",
    "# Fill nan with zero. Normalize ignores the zeroes\n",
    "df = df.fillna(0)"
   ]
  },
  {
   "cell_type": "code",
   "execution_count": null,
   "metadata": {},
   "outputs": [],
   "source": [
    "# Test / Train Split\n",
    "# from sklearn.model_selection import train_test_split\n",
    "\n",
    "# train, test = train_test_split(df)"
   ]
  },
  {
   "cell_type": "code",
   "execution_count": 2,
   "metadata": {},
   "outputs": [],
   "source": [
    "# Normalize User Ratings for GameIDs\n",
    "normalized = normalize(df)"
   ]
  },
  {
   "cell_type": "code",
   "execution_count": 3,
   "metadata": {},
   "outputs": [],
   "source": [
    "# Get User Similarity Matrix\n",
    "# Also try Pearson coefficient, city-block, etc...\n",
    "from sklearn.metrics.pairwise import cosine_similarity\n",
    "\n",
    "sim = cosine_similarity(df)"
   ]
  },
  {
   "cell_type": "code",
   "execution_count": 5,
   "metadata": {},
   "outputs": [],
   "source": [
    "# Get K nearest neighbors\n",
    "# argsort returns indices of the values of a sorted version of the array\n",
    "nrst10_nbors = sim.argsort()[:,-10:-1]"
   ]
  },
  {
   "cell_type": "code",
   "execution_count": null,
   "metadata": {},
   "outputs": [],
   "source": [
    "# Prediction Matrix\n",
    "# For each movie that a user has not rated,\n",
    "# Get the 10 nearest neighbors that have rated the movie,\n",
    "# Add each rating-Times-Similarity-Weight and divide by 10,\n",
    "# Of all the new values generated for unrated movies, return the highest N\n"
   ]
  }
 ],
 "metadata": {
  "kernelspec": {
   "display_name": "Python 3",
   "language": "python",
   "name": "python3"
  },
  "language_info": {
   "codemirror_mode": {
    "name": "ipython",
    "version": 3
   },
   "file_extension": ".py",
   "mimetype": "text/x-python",
   "name": "python",
   "nbconvert_exporter": "python",
   "pygments_lexer": "ipython3",
   "version": "3.6.4"
  }
 },
 "nbformat": 4,
 "nbformat_minor": 2
}
