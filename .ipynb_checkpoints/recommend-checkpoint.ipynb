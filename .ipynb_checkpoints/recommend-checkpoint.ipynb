{
 "cells": [
  {
   "cell_type": "code",
   "execution_count": null,
   "metadata": {},
   "outputs": [],
   "source": [
    "# Python User-User Collaborative Filtering Recommender System\n",
    "# consider not using pivot table?\n",
    "# experiment with different similarity functions\n",
    "\n",
    "'''\n",
    "-For each movie j user i has not seen yet, we find the set of users U who are similar to user i and have seen \n",
    "movie j.\n",
    "For each similar user u, we take u's rating of movie j and multiply it by the cosine similarity \n",
    "of user i and user u. Sum up these weighted ratings, divide by the number of users in U, and we get a\n",
    "weighted average rating for the movie j.\n",
    "'''"
   ]
  },
  {
   "cell_type": "code",
   "execution_count": 83,
   "metadata": {},
   "outputs": [
    {
     "name": "stdout",
     "output_type": "stream",
     "text": [
      "gameID  3       5       10      11      12      13      18      41      \\\n",
      "userID                                                                   \n",
      "272        1.0     1.0     1.0     0.0     1.0     7.5     1.0     4.0   \n",
      "388        8.0     7.0     8.0     8.0     8.0     7.0     8.0     9.0   \n",
      "430        6.0     6.0     7.0     7.0     6.0     8.0     0.0     5.0   \n",
      "2044       8.0     7.0     7.0     7.0     0.0     8.0     7.0     7.0   \n",
      "3080       9.0     0.0     5.0     8.0     7.0     8.0     8.0     7.0   \n",
      "\n",
      "gameID  42      45       ...    187645  192291  193738  194655  198773  \\\n",
      "userID                   ...                                             \n",
      "272        1.0     6.0   ...       0.0     0.0     0.0     0.0     0.0   \n",
      "388        9.0     8.0   ...       0.0     0.0     9.0     8.0     0.0   \n",
      "430        6.0     9.0   ...       8.0     0.0     7.5     0.0     0.0   \n",
      "2044       7.0     6.0   ...       7.0     8.0     8.0     0.0     9.0   \n",
      "3080       8.0     9.0   ...       9.0     0.0     0.0     9.0     8.0   \n",
      "\n",
      "gameID  201808  204583  205059  205637  209010  \n",
      "userID                                          \n",
      "272        0.0     0.0     0.0     0.0     0.0  \n",
      "388        8.0     7.0    10.0     8.0     8.0  \n",
      "430        0.0     0.0     9.0     9.0     0.0  \n",
      "2044       8.0     7.5     8.5     7.0     7.0  \n",
      "3080       0.0     9.0     9.0     9.0     8.0  \n",
      "\n",
      "[5 rows x 402 columns]\n"
     ]
    }
   ],
   "source": [
    "import numpy as np\n",
    "import pandas as pd\n",
    "import scipy\n",
    "from sklearn.preprocessing import normalize\n",
    "\n",
    "# Read CSV and change to pivot_table\n",
    "df = pd.read_csv('inputs/boardgame-elite-users.csv')\n",
    "df = df.pivot_table(index='userID', columns='gameID', values='rating')\n",
    "\n",
    "# Fill nan with zero. Normalize ignores the zeroes\n",
    "df = df.fillna(0)\n",
    "# print(len(df.columns)) --> 402\n",
    "# print(len(df.index)) --> 199\n",
    "print(df.head())"
   ]
  },
  {
   "cell_type": "code",
   "execution_count": null,
   "metadata": {},
   "outputs": [],
   "source": [
    "# Test / Train Split\n",
    "# from sklearn.model_selection import train_test_split\n",
    "\n",
    "# train, test = train_test_split(df)"
   ]
  },
  {
   "cell_type": "code",
   "execution_count": 2,
   "metadata": {},
   "outputs": [],
   "source": [
    "# Normalize User Ratings for GameIDs\n",
    "normalized = normalize(df)"
   ]
  },
  {
   "cell_type": "code",
   "execution_count": 3,
   "metadata": {},
   "outputs": [],
   "source": [
    "# Get User Similarity Matrix\n",
    "# Also try Pearson coefficient, city-block, etc...\n",
    "from sklearn.metrics.pairwise import cosine_similarity\n",
    "\n",
    "sim = cosine_similarity(df)\n",
    "# print(sim.shape) --> (199, 199)"
   ]
  },
  {
   "cell_type": "code",
   "execution_count": 68,
   "metadata": {},
   "outputs": [
    {
     "name": "stdout",
     "output_type": "stream",
     "text": [
      "[187094, 128117, 55092, 13340, 19677, 37860, 12305, 96817, 119312, 27853]\n"
     ]
    }
   ],
   "source": [
    "# !!! I don't want 'nearest 10 neighbors'...\n",
    "# I want the nearest 10 neighbors WHO HAVE rated the gameID\n",
    "# Get K nearest neighbors (indices from user similarity matrix)\n",
    "# argsort returns indices of the values of a sorted version of the array\n",
    "\n",
    "# return the 10 nearest neighbors who have rated the game\n",
    "# should I check to make sure game has not yet been rated?\n",
    "\n",
    "nbor_indx = sim.argsort()[:,::-1][:,:]\n",
    "\n",
    "# Helper function called by \"get_ten_nearest\"\n",
    "# Takes a gameID and returns list\n",
    "def get_users_that_rated(gid):\n",
    "    user_list = df[gid].where(df[gid]>0).dropna().index.tolist()\n",
    "    return user_list\n",
    "    \n",
    "# Helper function called by \"predict_rating\"\n",
    "# Takes df, userID, and gameID that has not been rated by userID ; returns list of 10 most similar userIDs \n",
    "# THAT HAVE rated the game (descending order of similarity)\n",
    "def get_ten_nearest(df, uid, gameid):\n",
    "    pot_nbors = get_users_that_rated(gameid)\n",
    "    uid_indx = df.index.get_loc(uid)\n",
    "    desc_sim_indx = nbor_indx[uid_indx]\n",
    "    \n",
    "    sim_userIDs = []\n",
    "    for x in desc_sim_indx:\n",
    "        if df.index[x] in pot_nbors:\n",
    "            sim_userIDs.append(df.index[x])\n",
    "        if len(sim_userIDs)>10: # itself will be the first member(total 11)\n",
    "            break\n",
    "    return sim_userIDs[1:]\n",
    "    \n",
    "print(get_ten_nearest(df,66705,13))"
   ]
  },
  {
   "cell_type": "code",
   "execution_count": 84,
   "metadata": {},
   "outputs": [
    {
     "data": {
      "text/plain": [
       "6.157596239942643"
      ]
     },
     "execution_count": 84,
     "metadata": {},
     "output_type": "execute_result"
    }
   ],
   "source": [
    "# Takes df, userID, gameID\n",
    "# returns predicted rating for\n",
    "def predict_rating(df, uid, gameid):\n",
    "    sim_uids = get_ten_nearest(df, uid, gameid)\n",
    "    accm_score = 0.0\n",
    "    for nbor_id in sim_uids:\n",
    "        sim_indx_x = df.index.get_loc(uid)\n",
    "        sim_indx_y = df.index.get_loc(nbor_id)\n",
    "        accm_score += (df.loc[nbor_id][gameid] * sim[sim_indx_x][sim_indx_y])\n",
    "    score = accm_score / 10\n",
    "    return score\n",
    "\n",
    "predict_rating(df, 3080, 187645)\n",
    "\n",
    "# Now just apply where each rating is zero..."
   ]
  },
  {
   "cell_type": "code",
   "execution_count": 44,
   "metadata": {},
   "outputs": [
    {
     "name": "stdout",
     "output_type": "stream",
     "text": [
      "388\n",
      "7100\n",
      "10\n",
      "0.5953403235711451\n",
      "0.5803093270234448\n"
     ]
    }
   ],
   "source": [
    "print(df.index[1])\n",
    "y = nbor_indx[0][1]\n",
    "print(df.index[y])\n",
    "print(df.index.get_loc(7100))\n",
    "print(sim[0][10])\n",
    "print(sim[0][nbor_indx[0][3]])"
   ]
  },
  {
   "cell_type": "code",
   "execution_count": null,
   "metadata": {},
   "outputs": [],
   "source": [
    "# Prediction Matrix\n",
    "# For each movie that a user has not rated,\n",
    "# Get the 10 nearest neighbors that have rated the movie, (how to handle user with no very similar users, every\n",
    "# nearest neighbor is still more disimilar than similar?)\n",
    "# Add each rating-Times-Similarity-Weight and divide by 10,\n",
    "# Of all the new values generated for unrated movies, return the highest N\n"
   ]
  }
 ],
 "metadata": {
  "kernelspec": {
   "display_name": "Python 3",
   "language": "python",
   "name": "python3"
  },
  "language_info": {
   "codemirror_mode": {
    "name": "ipython",
    "version": 3
   },
   "file_extension": ".py",
   "mimetype": "text/x-python",
   "name": "python",
   "nbconvert_exporter": "python",
   "pygments_lexer": "ipython3",
   "version": "3.6.4"
  }
 },
 "nbformat": 4,
 "nbformat_minor": 2
}
