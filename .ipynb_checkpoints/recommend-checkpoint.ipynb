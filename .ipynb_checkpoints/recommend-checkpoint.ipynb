{
 "cells": [
  {
   "cell_type": "code",
   "execution_count": 1,
   "metadata": {},
   "outputs": [],
   "source": [
    "# NOTES\n",
    "\n",
    "# compare the ordered gameid vecs by iterating over test vec and subtracting from a val for the \n",
    "# distance, by index, when compared to pred vec\n",
    "\n",
    "# 'seven' (mean/mode) guess against test data is more accurate than predictions, according\n",
    "# to rmse, but is useless for actual rec system (same rating for all userid-gameid pairs)...\n",
    "\n",
    "# instead, design test for confirming recognition of highest rated pairs among test data...\n",
    "# test this by ordering all userID-gameID predictions (desc) and comparing to order from test data\n",
    "# how to compare similarity of lists of unique gameIDs? ...\n",
    "# also the test vector of gameIDs will not have ncsrly been rated although they do have a pred rating...\n",
    "\n",
    "# k nearest villains - recs based on most dissimilar users' lowest rated?...\n",
    "\n",
    "# possible check for outliers (dist of ratings vastly different vectors, all one value)\n",
    "\n",
    "# Consider cross-validation for more accurate testing\n",
    "# sklearn cross-validation module is the equiv of just shuffling train/test split, retraining, rerun\n",
    "\n",
    "# Consider wrapping in custom sklearn estimator / classifier, maybe inherit from base classes\n",
    "\n",
    "# README\n",
    "# Datafield has 'user_ids' and their 'rating' (1-10) of various 'game_ids'\n",
    "# Fields = userID , gameID , rating\n",
    "# Prediction of unrated games for each user_id is made using:\n",
    "# k-nearest neighbors found using cosine-similarity\n",
    "# predicted rating based on those near-neighbors' rating weighted by cosine-similarity users"
   ]
  },
  {
   "cell_type": "code",
   "execution_count": 2,
   "metadata": {},
   "outputs": [],
   "source": [
    "import numpy as np\n",
    "import pandas as pd\n",
    "from sklearn.model_selection import train_test_split\n",
    "\n",
    "df = pd.read_csv('inputs/boardgame-elite-users.csv')\n",
    "\n",
    "train, test = train_test_split(df, test_size=.15)"
   ]
  },
  {
   "cell_type": "code",
   "execution_count": 3,
   "metadata": {},
   "outputs": [],
   "source": [
    "train_ptable = train.pivot_table(index='userID', columns='gameID', values='rating') \n",
    "\n",
    "test_ptable = test.pivot_table(index='userID', columns='gameID', values='rating') \n",
    "\n",
    "# get mean before fillna\n",
    "# this is mean of rating for gameids using train data\n",
    "# test by applying to every userid-gameid pair in test corresponding to gameid\n",
    "i = 0\n",
    "gameID_mean_tuples = []\n",
    "for row in train_ptable.mean():\n",
    "    gameID_mean_tuples.append((train_ptable.columns[i], row))\n",
    "    i += 1\n",
    "\n",
    "train_ptable = train_ptable.fillna(0)\n",
    "test_ptable = test_ptable.fillna(0)"
   ]
  },
  {
   "cell_type": "code",
   "execution_count": 4,
   "metadata": {},
   "outputs": [],
   "source": [
    "from sklearn.preprocessing import normalize\n",
    "\n",
    "norm_train = normalize(train_ptable, copy=True)"
   ]
  },
  {
   "cell_type": "code",
   "execution_count": 5,
   "metadata": {},
   "outputs": [],
   "source": [
    "from sklearn.metrics.pairwise import cosine_similarity\n",
    "\n",
    "sim = cosine_similarity(norm_train)"
   ]
  },
  {
   "cell_type": "code",
   "execution_count": 6,
   "metadata": {},
   "outputs": [],
   "source": [
    "nbor_indx = sim.argsort()[:,::-1]\n",
    "\n",
    "# HELPER FUNCTIONS\n",
    "def get_users_that_rated(gameid):\n",
    "    return train_ptable[gameid].where(train_ptable[gameid]>0).dropna().index.tolist()\n",
    "    \n",
    "def get_k_nearest_neighbors(userid, gameid, k):\n",
    "    assert(k>1)\n",
    "    pot_nbors = get_users_that_rated(gameid)\n",
    "    userid_indx = train_ptable.index.get_loc(userid)\n",
    "    \n",
    "    sim_userIDs = []\n",
    "    for x in nbor_indx[userid_indx]:\n",
    "        if train_ptable.index[x] in pot_nbors:\n",
    "            sim_userIDs.append(train_ptable.index[x])\n",
    "        if len(sim_userIDs)>k:\n",
    "            break\n",
    "    return sim_userIDs[1:]\n",
    "\n",
    "def round_to_point5(someFloat):\n",
    "    score = np.around(someFloat, decimals=1)\n",
    "    first_digit = score // 1\n",
    "    last_digit = (score % 1) * 10\n",
    "    carry = 0\n",
    "    if 0 <= last_digit <= 2:\n",
    "        return float(first_digit)\n",
    "    elif 2 < last_digit <= 7:\n",
    "        return float(first_digit + .5)\n",
    "    elif last_digit > 7:\n",
    "        return float(first_digit + 1)\n",
    "        \n",
    "    "
   ]
  },
  {
   "cell_type": "code",
   "execution_count": 7,
   "metadata": {},
   "outputs": [
    {
     "data": {
      "text/plain": [
       "6.5"
      ]
     },
     "execution_count": 7,
     "metadata": {},
     "output_type": "execute_result"
    }
   ],
   "source": [
    "# Takes userID, gameID, optional k\n",
    "# Returns predicted rating for gameID\n",
    "def predict_rating(uid, gameid, k=10):\n",
    "    sim_uids = get_k_nearest_neighbors(uid, gameid, k)\n",
    "    accm_score = 0.0\n",
    "    accm_weight = 0.0\n",
    "    for nbor_id in sim_uids:\n",
    "        sim_indx_x = train_ptable.index.get_loc(uid)\n",
    "        sim_indx_y = train_ptable.index.get_loc(nbor_id)\n",
    "        accm_score += (train_ptable.loc[nbor_id][gameid] * sim[sim_indx_x][sim_indx_y])\n",
    "        accm_weight += sim[sim_indx_x][sim_indx_y]\n",
    "    score = accm_score / accm_weight\n",
    "    score = round_to_point5(score)\n",
    "    return score\n",
    "\n",
    "predict_rating(5480, 97903)"
   ]
  },
  {
   "cell_type": "code",
   "execution_count": 8,
   "metadata": {},
   "outputs": [],
   "source": [
    "# is iteration slowing down? try apply or something\n",
    "\n",
    "user_ids = []\n",
    "\n",
    "for row in test_ptable.itertuples():\n",
    "    user_ids.append(row[0])\n",
    "    \n",
    "game_ids = []\n",
    "for x in test_ptable.columns:\n",
    "    game_ids.append(x)\n",
    "\n",
    "# tmpdict = {'user_ID':}...\n",
    "\n",
    "pred_matrix = []\n",
    "for user in user_ids:\n",
    "    row = []\n",
    "    for gid in game_ids:\n",
    "        row.append(predict_rating(user,gid))\n",
    "    pred_matrix.append(row)"
   ]
  },
  {
   "cell_type": "code",
   "execution_count": 24,
   "metadata": {
    "scrolled": false
   },
   "outputs": [],
   "source": [
    "# create user_game_matrix, which holds list predicted gameIDs for each userID, desc order\n",
    "\n",
    "user_game_matrix = []\n",
    "for usr_row in pred_matrix:\n",
    "    sorted_row_indexes = np.asarray(usr_row).argsort()[::-1]\n",
    "    \n",
    "    \n",
    "    gids = []\n",
    "    for indx in sorted_row_indexes:\n",
    "        gids.append(train_ptable.columns[indx])\n",
    "    user_game_matrix.append(gids)"
   ]
  },
  {
   "cell_type": "code",
   "execution_count": 10,
   "metadata": {},
   "outputs": [],
   "source": [
    "# generate matrix of actual ratings from user_id/game_id pairs\n",
    "truth_matrix = []\n",
    "for user in user_ids:\n",
    "    row = []\n",
    "    for gid in game_ids:\n",
    "        row.append(test_ptable.loc[user][gid])\n",
    "    truth_matrix.append(row)"
   ]
  },
  {
   "cell_type": "code",
   "execution_count": 25,
   "metadata": {},
   "outputs": [],
   "source": [
    "# get gameIDs for each userID from truth_matrix\n",
    "\n",
    "truth_game_matrix = []\n",
    "for usr_row in truth_matrix:\n",
    "    sorted_row_indexes = np.asarray(usr_row).argsort()[::-1]\n",
    "    \n",
    "    gids = []\n",
    "    for indx in sorted_row_indexes:\n",
    "        gids.append(test_ptable.columns[indx])\n",
    "    truth_game_matrix.append(gids)"
   ]
  },
  {
   "cell_type": "code",
   "execution_count": 30,
   "metadata": {},
   "outputs": [
    {
     "name": "stdout",
     "output_type": "stream",
     "text": [
      "[182028, 66690, 36218, 822, 3076, 9209, 24439, 28720, 30549, 34119, 34499, 37111, 521, 37046, 205637, 40692, 40849, 68448, 96848, 124742, 104162, 555, 115746, 172818, 12, 178900, 188, 13, 173346, 205059, 102794, 107529, 65781, 55660, 54625, 54043, 51811, 43015, 45, 42, 40834, 50, 37904, 54, 110327, 93, 66188, 41, 102680, 69789, 70323, 36932, 77423, 92539, 92828, 93260, 105551, 97207, 97786, 97842, 98778, 100901, 102652, 72125, 35677, 118, 6249, 12333, 10630, 9609, 9216, 320, 8217, 7854, 5405, 171, 5404, 463, 2993, 2653, 2651, 2397, 2163, 14105, 15062, 17133, 19857, 31627, 31481, 31260, 30869, 172, 28143, 28023, 27833, 120677, 25554, 25292, 215, 22545, 21790, 21348, 25613, 209010, 126042, 160499, 176396, 126163, 127023, 176189, 155068, 175914, 155426, 163968, 177736, 155703, 164153, 164928, 171623, 131357, 167791, 169786, 163602, 129622, 163412, 136888, 147020, 201808, 136063, 198773, 148949, 193738, 192291, 183394, 150376, 150658, 181304, 154203, 15364, 157354, 17226, 18602, 20100, 20551, 21059, 15363, 158899, 118048, 119890, 24508, 156129, 27162, 147949, 148228, 30933, 150312, 30380, 27708, 27173, 25669, 21763, 155362, 24480, 24181, 22827, 22345, 21882, 156009, 14996, 8051, 13004, 150, 503, 483, 478, 432, 325, 176494, 173, 181279, 116, 12942, 105, 88, 187645, 194655, 18, 11, 10, 5, 172386, 171668, 823, 826, 161417, 12002, 161936, 161970, 9217, 163967, 8203, 147151, 7805, 5782, 4098, 168435, 170216, 2511, 2453, 1345, 926, 31594, 21241, 31730, 48726, 84876, 83330, 79828, 129437, 73761, 73439, 72287, 71721, 70919, 132531, 68425, 133038, 66589, 133848, 65244, 62219, 59959, 134342, 54998, 90419, 91536, 92415, 103885, 121408, 111661, 121921, 108745, 122515, 105134, 123260, 104006, 103343, 128882, 123540, 124361, 124708, 101721, 100423, 127060, 127398, 128621, 53953, 3, 46213, 146021, 42215, 138161, 38453, 39463, 143741, 39856, 139030, 39938, 43570, 144733, 146508, 34635, 34219, 146652, 143693, 45315, 37759, 1115, 2398, 475, 25821, 171131, 19237, 91312, 760, 39683, 1829, 1465, 25417, 1198, 929, 1111, 90137, 27588, 394, 327, 117959, 113924, 204583, 113294, 46, 47, 122522, 51, 71, 29368, 36946, 103, 143884, 153938, 140, 27746, 37380, 27627, 125618, 40628, 127067, 77130, 3201, 2591, 138788, 6472, 7717, 41114, 133473, 66098, 21523, 63888, 9220, 63628, 9674, 10547, 63268, 43111, 12493, 43443, 59946, 13291, 13823, 59294, 55670, 20963, 15818, 15987, 16986, 16992, 157969, 137297, 22141, 66362, 2655, 3955, 33160, 2842, 4390, 70149, 140620, 155987, 24068, 1234, 131835, 11170, 811, 112, 98, 13308, 2807, 15158, 12692, 2987, 97903, 8098, 699, 166384, 915, 438, 2381, 27225, 278, 3943, 74, 40398, 172225, 1927, 62871, 1917, 1219, 181, 1294, 50381, 2223, 258, 2243, 2471, 2452, 2952, 1406, 2425, 891, 590, 2083, 2921]\n",
      "[98778, 1234, 483, 15363, 147020, 143741, 37759, 891, 45315, 53953, 25292, 2651, 24181, 14105, 150376, 432, 63888, 136888, 2511, 172, 126163, 127023, 127060, 13004, 21790, 21763, 21523, 127398, 173, 122515, 15062, 100423, 34119, 34219, 71721, 1345, 36218, 30380, 28720, 28143, 9217, 133038, 73439, 66188, 121408, 40692, 118, 41114, 14996, 15158, 13308, 15364, 13823, 209010, 13291, 9609, 8051, 8098, 8203, 8217, 9209, 9216, 9220, 9674, 12942, 10547, 10630, 11170, 12002, 12333, 12493, 15818, 12692, 20551, 15987, 27627, 25554, 25613, 25669, 25821, 27162, 27173, 27225, 27588, 27708, 24508, 27746, 27833, 28023, 29368, 30549, 30869, 30933, 31260, 25417, 24480, 16986, 20963, 16992, 17133, 17226, 18602, 19237, 19857, 20100, 7805, 21059, 24439, 21241, 21348, 21882, 22141, 22345, 22545, 22827, 24068, 7854, 3201, 7717, 327, 150, 171, 181, 188, 215, 258, 278, 320, 325, 394, 116, 438, 463, 475, 478, 503, 521, 555, 590, 699, 140, 112, 811, 46, 5, 10, 11, 12, 13, 18, 41, 42, 45, 47, 105, 50, 51, 54, 71, 74, 88, 93, 98, 103, 760, 822, 6472, 2993, 2471, 2591, 2653, 2655, 2807, 2842, 2921, 2952, 2987, 3076, 2452, 31594, 3943, 3955, 4098, 4390, 5404, 5405, 5782, 6249, 2453, 2425, 823, 1406, 826, 915, 926, 929, 1111, 1115, 1198, 1219, 1294, 1465, 2398, 1829, 1917, 1927, 2083, 2163, 2223, 2243, 2381, 2397, 31481, 37111, 31627, 147151, 138788, 139030, 140620, 143693, 143884, 144733, 146021, 146508, 146652, 147949, 137297, 148228, 148949, 150312, 150658, 153938, 154203, 155068, 155362, 155426, 138161, 136063, 31730, 126042, 120677, 121921, 122522, 123260, 123540, 124361, 124708, 124742, 125618, 127067, 134342, 128621, 128882, 129437, 129622, 131357, 131835, 132531, 133473, 133848, 155703, 155987, 156009, 181304, 172818, 173346, 175914, 176189, 176396, 176494, 177736, 178900, 181279, 182028, 156129, 183394, 187645, 192291, 193738, 194655, 198773, 201808, 204583, 205059, 172386, 172225, 171668, 171623, 157354, 157969, 158899, 160499, 161417, 161936, 161970, 163412, 163602, 163967, 163968, 164153, 164928, 166384, 167791, 168435, 169786, 170216, 171131, 119890, 118048, 117959, 55670, 43570, 46213, 48726, 50381, 51811, 54043, 54625, 54998, 55660, 59294, 66589, 59946, 59959, 62219, 62871, 63268, 63628, 65244, 65781, 66098, 43443, 43111, 43015, 42215, 33160, 34499, 34635, 35677, 36932, 36946, 37046, 205637, 37380, 37904, 38453, 39463, 39683, 39856, 39938, 40398, 40628, 40834, 40849, 66362, 66690, 115746, 103885, 97786, 97842, 97903, 100901, 101721, 102652, 102680, 102794, 103343, 104006, 68425, 104162, 105134, 105551, 107529, 108745, 110327, 111661, 113294, 113924, 97207, 96848, 93260, 92828, 68448, 69789, 70149, 70323, 70919, 72125, 72287, 73761, 77130, 77423, 79828, 83330, 84876, 90137, 90419, 91312, 91536, 92415, 92539, 3]\n"
     ]
    }
   ],
   "source": [
    "for gid in user_game_matrix[0]:\n",
    "    \n",
    "print(truth_game_matrix[0])"
   ]
  },
  {
   "cell_type": "code",
   "execution_count": 12,
   "metadata": {},
   "outputs": [],
   "source": [
    "# test by checking that top 10 gameIDs for each userID from truth_matrix have high rating predictions\n",
    "\n",
    "top10_tuples = []\n",
    "i = 0\n",
    "\n",
    "for game_row in truth_game_matrix:\n",
    "    usr_row = []\n",
    "    for gid in game_row:\n",
    "        usr_row.append((predict_rating(train_ptable.index[i], gid), test_ptable.iloc[i][gid]))\n",
    "    i += 1\n",
    "    top10_tuples.append(usr_row)"
   ]
  },
  {
   "cell_type": "code",
   "execution_count": 20,
   "metadata": {},
   "outputs": [
    {
     "name": "stdout",
     "output_type": "stream",
     "text": [
      "rmse =  1.1172206451051852\n"
     ]
    }
   ],
   "source": [
    "# get root mean square error of top 10 predictioned versus truth\n",
    "\n",
    "import math\n",
    "\n",
    "sum_sqr_error = 0\n",
    "i = 0\n",
    "\n",
    "for row in top10_tuples:\n",
    "    for pair in row:\n",
    "        sum_sqr_error += ((pair[0] - pair[1])**2)\n",
    "        i += 1\n",
    "print('rmse = ', math.sqrt(sum_error/i))"
   ]
  },
  {
   "cell_type": "code",
   "execution_count": 14,
   "metadata": {},
   "outputs": [],
   "source": [
    "compare_tuples = []\n",
    "\n",
    "for i, row in enumerate(truth_matrix):\n",
    "    for j, rating in enumerate(row):\n",
    "        if rating > .1:\n",
    "            compare_tuples.append((truth_matrix[i][j], pred_matrix[i][j]))"
   ]
  },
  {
   "cell_type": "code",
   "execution_count": 23,
   "metadata": {},
   "outputs": [
    {
     "name": "stdout",
     "output_type": "stream",
     "text": [
      "rmse =  1.5871907191521808\n"
     ]
    }
   ],
   "source": [
    "# find rmse in all compare_tuples\n",
    "\n",
    "mean_sqr_sum = 0\n",
    "i = 0\n",
    "\n",
    "for pair in compare_tuples:\n",
    "    mean_sqr_sum += ((pair[0] - pair[1])**2)\n",
    "    i += 1\n",
    "\n",
    "print('rmse = ', math.sqrt(mean_sqr_sum/i))\n",
    "# this is a measure of acc of all pred\n",
    "# check this measure of acc by comparing to a matrix of random guesses, mean guess for all (7)\n",
    "\n",
    "# need to just get top N pred for each user\n",
    "# then see if those suggestions are among highest rated in test data"
   ]
  },
  {
   "cell_type": "code",
   "execution_count": 21,
   "metadata": {},
   "outputs": [
    {
     "name": "stdout",
     "output_type": "stream",
     "text": [
      "rmse =  0.7463478919909917\n"
     ]
    }
   ],
   "source": [
    "# rmse of all sevens\n",
    "# seven is both the mode and median (i think, test/show this)\n",
    "\n",
    "mean_sqr_sum = 0\n",
    "i = 0\n",
    "\n",
    "for row in top10_tuples:\n",
    "    for pair in row:\n",
    "        mean_sqr_sum += ((pair[0] - 7)**2)\n",
    "        i += 1\n",
    "\n",
    "print('rmse = ', math.sqrt(mean_sum/i))"
   ]
  }
 ],
 "metadata": {
  "kernelspec": {
   "display_name": "Python 3",
   "language": "python",
   "name": "python3"
  },
  "language_info": {
   "codemirror_mode": {
    "name": "ipython",
    "version": 3
   },
   "file_extension": ".py",
   "mimetype": "text/x-python",
   "name": "python",
   "nbconvert_exporter": "python",
   "pygments_lexer": "ipython3",
   "version": "3.6.4"
  }
 },
 "nbformat": 4,
 "nbformat_minor": 2
}
